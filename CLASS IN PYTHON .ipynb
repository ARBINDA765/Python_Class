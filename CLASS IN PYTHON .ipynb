{
 "cells": [
  {
   "cell_type": "markdown",
   "metadata": {},
   "source": [
    "# Python Classes and Objects"
   ]
  },
  {
   "cell_type": "code",
   "execution_count": 4,
   "metadata": {},
   "outputs": [],
   "source": [
    "#A class is a user-defined blueprint or prototype from which objects are created.\n",
    "#Classes provide a means of bundling data and functionality together. \n",
    "#Creating a new class creates a new type of object, allowing new instances of that type to be mad\n",
    "''' Some points on Python class:\n",
    "\n",
    "Classes are created by keyword class.\n",
    "Attributes are the variables that belong to class.\n",
    "Attributes are always public and can be accessed using dot (.) operator. Eg.: Myclass.Myattribute'''\n"
   ]
  },
  {
   "cell_type": "code",
   "execution_count": 8,
   "metadata": {},
   "outputs": [
    {
     "data": {
      "text/plain": [
       "' #Class Definition Syntax:\\n\\n#class ClassName:\\n    # Statement-1\\n    .\\n    .\\n    .\\n    # Statement-N'"
      ]
     },
     "execution_count": 8,
     "metadata": {},
     "output_type": "execute_result"
    }
   ],
   "source": [
    "\"\"\" #Class Definition Syntax:\n",
    "\n",
    "#class ClassName:\n",
    "    # Statement-1\n",
    "    .\n",
    "    .\n",
    "    .\n",
    "    # Statement-N\"\"\""
   ]
  },
  {
   "cell_type": "code",
   "execution_count": 18,
   "metadata": {},
   "outputs": [
    {
     "name": "stdout",
     "output_type": "stream",
     "text": [
      "Hello ,my name is  Micky\n"
     ]
    },
    {
     "data": {
      "text/plain": [
       "90"
      ]
     },
     "execution_count": 18,
     "metadata": {},
     "output_type": "execute_result"
    }
   ],
   "source": [
    "class person:\n",
    "    a1=90\n",
    "    # init method or constructor\n",
    "    def __init__(self,name):\n",
    "        self.name=name\n",
    "        \n",
    "    ## Sample Method \n",
    "    def say_hi(self):\n",
    "        print(\"Hello ,my name is \",self.name)\n",
    "\n",
    "## Object instantiation \n",
    "p=person(\"Micky\")\n",
    "\n",
    "# and method through objects \n",
    "p.say_hi()\n",
    "\n",
    "#Accessing class attributes\n",
    "p.a1"
   ]
  },
  {
   "cell_type": "code",
   "execution_count": 42,
   "metadata": {},
   "outputs": [
    {
     "name": "stdout",
     "output_type": "stream",
     "text": [
      "Hello ,my name is  brown Pug High\n",
      "instance variable by object::: Pug\n",
      "\n",
      "Accessing class variable using class name\n",
      "dog\n"
     ]
    }
   ],
   "source": [
    "# Python program to show that the variables with a value   \n",
    "# assigned in the class declaration, are class variables and  \n",
    "# variables inside methods and constructors are instance  \n",
    "# variables.\n",
    "\n",
    "#class for Dog\n",
    "\n",
    "class Dog:\n",
    "    \n",
    "    #class for variable\n",
    "    animal='dog'\n",
    "    \n",
    "    #the init method or pointer or constructor\n",
    "    def __init__(self,breed,colour,sound1):\n",
    "        #instance for variable\n",
    "        self.breed=breed\n",
    "        self.colour=colour\n",
    "        self.sound=sound1\n",
    "    \n",
    "    ## Sample Method \n",
    "    def say_hi(self):\n",
    "        print(\"Hello ,my name is \",self.colour,self.breed,self.sound)\n",
    "        b1=100\n",
    "\n",
    "    \n",
    "# Objects of Dog class\n",
    "Rodger = Dog(\"Pug\", \"brown\",\"High\")  \n",
    "Buzo = Dog(\"Bulldog\", \"black\",\"Low\") \n",
    "\n",
    "#Accessing class variable by the object of the class\n",
    "Rodger.animal\n",
    "\n",
    "#Accsing the method by the object\n",
    "Rodger.say_hi()\n",
    "\n",
    "#Accesing the instance variable \n",
    "print(\"instance variable by object:::\",Rodger.breed)\n",
    "\n",
    "\n",
    "# Class variables can be accessed using class  \n",
    "# name also  \n",
    "print(\"\\nAccessing class variable using class name\") \n",
    "print(Dog.animal)\n",
    "\n"
   ]
  },
  {
   "cell_type": "code",
   "execution_count": 43,
   "metadata": {},
   "outputs": [
    {
     "name": "stdout",
     "output_type": "stream",
     "text": [
      "brown\n"
     ]
    }
   ],
   "source": [
    "class Dog:  \n",
    "        \n",
    "    # Class Variable  \n",
    "    animal = 'dog'      \n",
    "        \n",
    "    # The init method or constructor  \n",
    "    def __init__(self, breed):  \n",
    "            \n",
    "        # Instance Variable  \n",
    "        self.breed = breed              \n",
    "    \n",
    "    # Adds an instance variable   \n",
    "    def setColor(self, color):  \n",
    "        self.color = color  \n",
    "        \n",
    "    # Retrieves instance variable      \n",
    "    def getColor(self):      \n",
    "        return self.color     \n",
    "    \n",
    "# Driver Code  \n",
    "Rodger = Dog(\"pug\")  \n",
    "Rodger.setColor(\"brown\")  \n",
    "print(Rodger.getColor()) "
   ]
  },
  {
   "cell_type": "code",
   "execution_count": 47,
   "metadata": {},
   "outputs": [],
   "source": [
    "#Constructors in Python\n",
    "#Constructors are generally used for instantiating an object.\n",
    "#The task of constructors is to initialize(assign values) to the data members of the class\n",
    "#when an object of class is created.\n",
    "#In Python the __init__() method is called the constructor and is always called when an object is created.\n",
    "\n",
    "#Syntax of constructor declaration :\n",
    "\n",
    "#def __init__(self):\n",
    "    # body of the constructor\n",
    "#Types of constructors :\n",
    "\n",
    "#1>default constructor :\n",
    "#The default constructor is simple constructor which doesn’t accept any arguments.It’s definition has only one argument\n",
    "#which is a reference to the instance being constructed.\n",
    "#2>parameterized constructor :\n",
    "#constructor with parameters is known as parameterized constructor.\n",
    "#The parameterized constructor take its first argument as a reference to the instance being constructed known as self \n",
    "#and the rest of the arguments are provided by the programmer."
   ]
  },
  {
   "cell_type": "code",
   "execution_count": null,
   "metadata": {},
   "outputs": [],
   "source": [
    "#Destructors in Python\n",
    "#Constructors in Python\n",
    "\n",
    "#Destructors are called when an object gets destroyed. In Python, \n",
    "#destructors are not needed as much needed in C++ because Python has a garbage collector that handles memory management \n",
    "#automatically.\n",
    "#The __del__() method is a known as a destructor method in Python. \n",
    "#It is called when all references to the object have been deleted i.e when an object is garbage collected.\n",
    "#Syntax of destructor declaration :\n",
    "\n",
    "#def __del__(self):\n",
    "  # body of destructor\n",
    "    #Here is the simple example of destructor.\n",
    "#By using del keyword we deleted the all references of object ‘obj’, therefore destructor invoked automatically.\n",
    "#Generally, Python’s garbage collector which is used to detect these types of cyclic references would remove it\n",
    "#but in this example the use of custom destructor marks this item as “uncollectable”.\n",
    "#Simply, it doesn’t know the order in which to destroy the objects, \\\n",
    "#so it leaves them. Therefore, if your instances are involved in circular references they will live in memory for as long as the application run.\n"
   ]
  },
  {
   "cell_type": "code",
   "execution_count": 71,
   "metadata": {},
   "outputs": [
    {
     "name": "stdout",
     "output_type": "stream",
     "text": [
      "Employee created\n",
      "employeee deleted\n"
     ]
    }
   ],
   "source": [
    "class Employee:\n",
    "    def __init__(self):\n",
    "        print(\"Employee created\")\n",
    "    def __del__(noself):\n",
    "        print(\"employeee deleted\")\n",
    "obj=Employee()\n",
    "del obj"
   ]
  },
  {
   "cell_type": "markdown",
   "metadata": {},
   "source": [
    "# Inheritance in Python"
   ]
  },
  {
   "cell_type": "code",
   "execution_count": 72,
   "metadata": {},
   "outputs": [],
   "source": [
    "\n",
    "#Inheritance is the capability of one class to derive or inherit the properties from another class. \n",
    "#The benefits of inheritance are:\n",
    "\n",
    "#It represents real-world relationships well.\n",
    "#It provides reusability of a code. We don’t have to write the same code again and again. Also,\n",
    "#it allows us to add more features to a class without modifying it.\n",
    "#It is transitive in nature, which means that if class B inherits from another class A, \n",
    "#then all the subclasses of B would automatically inherit from class A."
   ]
  },
  {
   "cell_type": "code",
   "execution_count": 73,
   "metadata": {},
   "outputs": [
    {
     "name": "stdout",
     "output_type": "stream",
     "text": [
      "E1 False\n",
      "E2 True\n"
     ]
    }
   ],
   "source": [
    "class Person(object):\n",
    "    \n",
    "    #constructor\n",
    "    def __init__(self,name):\n",
    "        self.name = name\n",
    "    \n",
    "    #Method\n",
    "    def getName(self):\n",
    "        return self.name\n",
    "    \n",
    "    #To check this person  is an employee\n",
    "    def isEmployee(self):\n",
    "        return False\n",
    "    \n",
    "class Employee(Person):\n",
    "    \n",
    "    #Here we return True\n",
    "    def isEmployee(self):\n",
    "        return True\n",
    "\n",
    "emp = Person(\"E1\")  # An Object of Person \n",
    "print(emp.getName(), emp.isEmployee()) \n",
    "   \n",
    "emp = Employee(\"E2\") # An Object of Employee \n",
    "print(emp.getName(), emp.isEmployee()) \n",
    "    \n",
    "        \n",
    "        "
   ]
  },
  {
   "cell_type": "code",
   "execution_count": 78,
   "metadata": {},
   "outputs": [
    {
     "name": "stdout",
     "output_type": "stream",
     "text": [
      "Rahul\n",
      "886012\n"
     ]
    }
   ],
   "source": [
    "#Parent class\n",
    "# Python code to demonstrate how parent constructors \n",
    "# are called\n",
    "class Person(object):\n",
    "    def __init__(self,name,idnumber):\n",
    "        self.name=name\n",
    "        self.idnumber=idnumber\n",
    "        \n",
    "    #Instance \n",
    "    def display(self):\n",
    "        print(self.name)\n",
    "        print(self.idnumber)\n",
    "        \n",
    "#CHILD CLASS\n",
    "class Employee(Person):\n",
    "    \n",
    "    #constructor\n",
    "    def __init__(self,name,idnumber,salary,post):\n",
    "        self.salary=salary\n",
    "        self.post=post\n",
    "        \n",
    "        # invoking the __init__ of the parent class  \n",
    "        Person.__init__(self,name,idnumber)\n",
    "\n",
    "# creation of an object variable or an instance \n",
    "a = Employee('Rahul', 886012,900,\"SP\")\n",
    "\n",
    "# calling a function of the class Person using its instance \n",
    "a.display() \n",
    "        "
   ]
  },
  {
   "cell_type": "code",
   "execution_count": 12,
   "metadata": {},
   "outputs": [
    {
     "name": "stdout",
     "output_type": "stream",
     "text": [
      "Derived\n",
      "Ram Sita INDIA\n"
     ]
    }
   ],
   "source": [
    "# Python example to show the working of multiple  \n",
    "# inheritance \n",
    "class Parent1(object):\n",
    "    \n",
    "    def __init__(self):\n",
    "        self.message=\"Ram\"\n",
    "        self.country=\"INDIA\"\n",
    "        \n",
    "class Parent2(object):\n",
    "    \n",
    "    def __init__(self):\n",
    "        self.congrts=\"Sita\"\n",
    "        \n",
    "class Dervied (Parent1,Parent2):\n",
    "    \n",
    "    def __init__(self,adress,city):\n",
    "        self.adress=\"BTM\"\n",
    "        self.city=\"BANGALORE\"\n",
    "        \n",
    "        Parent1.__init__(self)\n",
    "        Parent2.__init__(self)\n",
    "        print(\"Derived\") \n",
    "    \n",
    "    def combine(self):\n",
    "        print(self.message,self.congrts,self.country)\n",
    "        \n",
    "obj=Dervied(\"SAHADEVKHUNTA\",\"BALASORE\")\n",
    "obj.combine()\n",
    "    \n",
    "        \n",
    "    "
   ]
  },
  {
   "cell_type": "code",
   "execution_count": 24,
   "metadata": {},
   "outputs": [
    {
     "name": "stdout",
     "output_type": "stream",
     "text": [
      "Bangalore 24 MIG21\n"
     ]
    }
   ],
   "source": [
    "#Multilevel inheritance\n",
    "#Hirechary is Parent>child>grandchild\n",
    "#Calling the instance of parent class from grandchild class\n",
    "\n",
    "class Base(object):\n",
    "    \n",
    "    #constructor\n",
    "    def __init__(self,name,city):\n",
    "        self.name=name\n",
    "        self.city=\"Bangalore\"\n",
    "    #method created\n",
    "    def getName(self):\n",
    "        return self.city\n",
    "    \n",
    "#Child class    \n",
    "class Child(Base):\n",
    "    \n",
    "    def __init__(self,name,age,city):\n",
    "        Base.__init__(self,name,city)\n",
    "        self.age=age\n",
    "    \n",
    "    def getAge(self):\n",
    "        return self.age\n",
    "    \n",
    "#Grand child   \n",
    "class GrandChild(Child):\n",
    "    \n",
    "    def __init__(self,name,city,address,age):\n",
    "        self.address=address\n",
    "        Child.__init__(self,name,city,age)\n",
    "    def getLocation(self):\n",
    "        return self.address\n",
    "\n",
    "#Object on grand child\n",
    "s = GrandChild(\"Indian\",24,\"MIG21\",\"IAF\")   \n",
    "print(s.getName(), s.getAge(), s.getLocation())\n",
    "    \n",
    "    \n"
   ]
  },
  {
   "cell_type": "code",
   "execution_count": 65,
   "metadata": {},
   "outputs": [
    {
     "data": {
      "text/plain": [
       "'IAF'"
      ]
     },
     "execution_count": 65,
     "metadata": {},
     "output_type": "execute_result"
    }
   ],
   "source": [
    "#Private members of parent class\n",
    "#We don’t always want the instance variables of the parent class to be inherited by the child class\n",
    "#i.e. we can make some of the instance variables of the parent class private, which won’t be available to the child class.\n",
    "#Since ‘d’ is made private by those underscores,it is not available to the child class ‘D’ and hence the error.\n",
    "\n",
    "class A(object):\n",
    "    \n",
    "    def __init__(self,city,country,language,name):\n",
    "        self.name=\"Arabinda\"\n",
    "        self.language=\"Hindi\"\n",
    "        \n",
    "        self.__city=\"BANGALORE\"#private variable\n",
    "        self._country=\"INDIA\"#protected variable\n",
    "        \n",
    "class B(A):\n",
    "    \n",
    "    def __init__(self,city,country,language,name,region,army):\n",
    "        self.region=\"ASIA\"\n",
    "        self.army=\"IAF\"\n",
    "        A.__init__(self,city,country,language,name)\n",
    "        \n",
    "        \n",
    "\n",
    "obj=B(\"BikasDubey\",\"USA\",\"BALSORE\",\"IND\",\"EURP\",\"NAVY\")\n",
    "#print(obj.__i)\n",
    "#print(obj._j)\n",
    "#obj=A(\"BLR\",\"INDIA\",\"ENGLISH_IN\",\"MICKY\")\n",
    "obj.army\n",
    "\n",
    "#obj._country\n",
    "#obj.language\n",
    "#obj.name\n",
    "#obj.language"
   ]
  },
  {
   "cell_type": "code",
   "execution_count": 1,
   "metadata": {},
   "outputs": [
    {
     "name": "stdout",
     "output_type": "stream",
     "text": [
      "This function is in parent class.\n",
      "This function is in child class.\n"
     ]
    }
   ],
   "source": [
    "#Single Inheritance: Single inheritance enables a derived class to inherit properties from a single parent class, \n",
    "#thus enabling code reusability and addition of new features to existing code.\n",
    "\n",
    "# Python program to demonstrate \n",
    "# single inheritance \n",
    "  \n",
    "  \n",
    "# Base class \n",
    "class Parent: \n",
    "     def func1(self): \n",
    "          print(\"This function is in parent class.\") \n",
    "  \n",
    "# Derived class \n",
    "class Child(Parent): \n",
    "     def func2(self): \n",
    "          print(\"This function is in child class.\") \n",
    "  \n",
    "# Driver's code \n",
    "object = Child() \n",
    "#Accessing the base variable by the object\n",
    "object.func1() \n",
    "#Accessing the child variable by the object\n",
    "object.func2() "
   ]
  },
  {
   "cell_type": "code",
   "execution_count": 36,
   "metadata": {},
   "outputs": [],
   "source": [
    "#Multiple Inheritance:\n",
    "#When a class can be derived from more than one base classes this type of inheritance is \n",
    "#called multiple inheritance. In multiple inheritance,\n",
    "#all the features of the base classes are inherited into the derived class.\n",
    "\n",
    "\n",
    "# Base class \n",
    "class Country: \n",
    "    \n",
    "    def func1(self):\n",
    "        self.city=\"BLR\"\n",
    "        \n",
    "  \n",
    "class Region: \n",
    "    \n",
    "    def func2(self): \n",
    "        self.region=\"ASIA\"\n",
    "\n",
    "\n",
    "# Derived class \n",
    "class Child(Country,Region): \n",
    "    \n",
    "    def func_child(self):\n",
    "        print(\"This function is in child class.\")\n",
    "        print(self.city)\n",
    "        print(self.region)\n",
    "\n",
    "  \n",
    "# Driver's code \n",
    "object = Child() \n",
    "#Accessing the base variable by the object\n",
    "#print(object.func1)\n",
    "#Accessing the child variable by the object\n",
    "object.func1()\n"
   ]
  },
  {
   "cell_type": "raw",
   "metadata": {},
   "source": [
    "# Encapsulation in Python\n",
    "#Encapsulation is one of the fundamental concepts in object-oriented programming (OOP). \n",
    "#It describes the idea of wrapping data and the methods that work on data within one unit. \n",
    "#This puts restrictions on accessing variables and methods directly and can prevent the accidental modification of data.\n",
    "\n",
    "#Private members\n",
    "\n",
    "#To prevent accidental change, an object’s variable can only be changed by an object’s method. \n",
    "#Those type of variables are known as private variable.\n",
    "#Private members are similar to protected members, the difference is that the class members declared private should neither\n",
    "#be accessed outside the class nor by any base class. In Python, there is no existence of Private instance variables that \n",
    "#cannot be accessed except inside a class. However, to define a private member prefix the member name with double\n",
    "#underscore “__”"
   ]
  }
 ],
 "metadata": {
  "kernelspec": {
   "display_name": "Python 3",
   "language": "python",
   "name": "python3"
  },
  "language_info": {
   "codemirror_mode": {
    "name": "ipython",
    "version": 3
   },
   "file_extension": ".py",
   "mimetype": "text/x-python",
   "name": "python",
   "nbconvert_exporter": "python",
   "pygments_lexer": "ipython3",
   "version": "3.7.6"
  }
 },
 "nbformat": 4,
 "nbformat_minor": 4
}
